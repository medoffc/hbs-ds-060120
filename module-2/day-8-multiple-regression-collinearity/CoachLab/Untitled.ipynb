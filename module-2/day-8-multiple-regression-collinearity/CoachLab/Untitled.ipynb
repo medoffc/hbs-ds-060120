{
 "cells": [
  {
   "cell_type": "code",
   "execution_count": 1,
   "metadata": {},
   "outputs": [],
   "source": [
    "import numpy as np\n",
    "import pandas as pd"
   ]
  },
  {
   "cell_type": "code",
   "execution_count": 19,
   "metadata": {},
   "outputs": [],
   "source": [
    "df = pd.DataFrame({'':['Meal','Who\\'s cooking','Who\\'s cleaning','Ingredient List'],'Dinner 1': ['Fish Tacos','Carmi','Ari',('Tortillas',\n",
    "                                                                                                                        'Fish',\n",
    "                                                                                                                        'Cheese',\n",
    "                                                                                                                        'Cabbage',\n",
    "                                                                                                                        'Sour Cream')], 'Dinner Two':['Caprese Pasta','Mom','Dad',('Pasta','Tomatoes')]})"
   ]
  },
  {
   "cell_type": "code",
   "execution_count": 20,
   "metadata": {},
   "outputs": [
    {
     "data": {
      "text/html": [
       "<div>\n",
       "<style scoped>\n",
       "    .dataframe tbody tr th:only-of-type {\n",
       "        vertical-align: middle;\n",
       "    }\n",
       "\n",
       "    .dataframe tbody tr th {\n",
       "        vertical-align: top;\n",
       "    }\n",
       "\n",
       "    .dataframe thead th {\n",
       "        text-align: right;\n",
       "    }\n",
       "</style>\n",
       "<table border=\"1\" class=\"dataframe\">\n",
       "  <thead>\n",
       "    <tr style=\"text-align: right;\">\n",
       "      <th></th>\n",
       "      <th></th>\n",
       "      <th>Dinner 1</th>\n",
       "      <th>Dinner Two</th>\n",
       "    </tr>\n",
       "  </thead>\n",
       "  <tbody>\n",
       "    <tr>\n",
       "      <th>0</th>\n",
       "      <td>Meal</td>\n",
       "      <td>Fish Tacos</td>\n",
       "      <td>Caprese Pasta</td>\n",
       "    </tr>\n",
       "    <tr>\n",
       "      <th>1</th>\n",
       "      <td>Who's cooking</td>\n",
       "      <td>Carmi</td>\n",
       "      <td>Mom</td>\n",
       "    </tr>\n",
       "    <tr>\n",
       "      <th>2</th>\n",
       "      <td>Who's cleaning</td>\n",
       "      <td>Ari</td>\n",
       "      <td>Dad</td>\n",
       "    </tr>\n",
       "    <tr>\n",
       "      <th>3</th>\n",
       "      <td>Ingredient List</td>\n",
       "      <td>(Tortillas, Fish, Cheese, Cabbage, Sour Cream)</td>\n",
       "      <td>(Pasta, Tomatoes)</td>\n",
       "    </tr>\n",
       "  </tbody>\n",
       "</table>\n",
       "</div>"
      ],
      "text/plain": [
       "                                                          Dinner 1  \\\n",
       "0             Meal                                      Fish Tacos   \n",
       "1    Who's cooking                                           Carmi   \n",
       "2   Who's cleaning                                             Ari   \n",
       "3  Ingredient List  (Tortillas, Fish, Cheese, Cabbage, Sour Cream)   \n",
       "\n",
       "          Dinner Two  \n",
       "0      Caprese Pasta  \n",
       "1                Mom  \n",
       "2                Dad  \n",
       "3  (Pasta, Tomatoes)  "
      ]
     },
     "execution_count": 20,
     "metadata": {},
     "output_type": "execute_result"
    }
   ],
   "source": [
    "df"
   ]
  },
  {
   "cell_type": "code",
   "execution_count": null,
   "metadata": {},
   "outputs": [],
   "source": []
  }
 ],
 "metadata": {
  "kernelspec": {
   "display_name": "Python 3",
   "language": "python",
   "name": "python3"
  },
  "language_info": {
   "codemirror_mode": {
    "name": "ipython",
    "version": 3
   },
   "file_extension": ".py",
   "mimetype": "text/x-python",
   "name": "python",
   "nbconvert_exporter": "python",
   "pygments_lexer": "ipython3",
   "version": "3.7.6"
  }
 },
 "nbformat": 4,
 "nbformat_minor": 4
}
