{
 "cells": [
  {
   "cell_type": "markdown",
   "metadata": {},
   "source": [
    "## What is a Set? \n",
    "\n",
    "In probability theory, a set is defined as a *well-defined collection of objects*. \n",
    "\n",
    "Mathematically, you can denote a set by $S$. If an element $x$ belongs to a set $S$, then you'd write $x \\in S$. On the other hand, if $x$ does not belong to a set $S$, then you'd write $x\\notin S$.\n",
    "\n",
    "Example: If $S$ is defined as the set of even numbers, then:\n",
    "\n",
    "* If $x = 2$, $x\\in S$ because $x$ is an even number.\n",
    "\n",
    "* If $x = 9$, $x\\notin S$ because $x$ is not an even number.\n",
    "\n",
    "\n",
    "## Subsets\n",
    "\n",
    "Set $T$ is a subset of set $S$ if *every element* in set $T$ is also in set $S$. The mathematical notation for a subset is $T \\subseteq S$. \n",
    "\n",
    "Typically, you'll be more interested in *proper subsets*. All proper subsets are subsets. The only difference between subsets and proper subsets is that a subset can technically be the entire set. In other words, if A = {1,2,3} and B = {1,2,3} A is subset of B. If C = {1,2} then C is both a subset and proper subset of A. C is also a subset and proper subset of B. The mathematical notation for proper subsets is : $ C \\subset A $\n",
    "\n",
    "**Example**: If S is the set of even numbers, set $T = \\{2, 6, 22\\}$ is a proper subset of $S$. Formally, you can write this as $T \\subset S$. $T \\subseteq S$ is also correct in this case!\n"
   ]
  },
  {
   "cell_type": "markdown",
   "metadata": {},
   "source": [
    "## Universal Sets\n",
    "\n",
    "The collection of all possible outcomes in a certain context or universe is called the **universal set**.\n",
    "A universal set is often denoted by $\\Omega$."
   ]
  },
  {
   "cell_type": "markdown",
   "metadata": {},
   "source": [
    "### a) Union of Two Sets\n",
    "\n",
    "The union of two sets $S$ and $T$ is the set of elements of either S or T, or in both.  \n",
    "\n",
    "Applied to our example, the union of $S$ and $T$ is given by the elements $\\{2,3,4,6,8,9,12\\}$. \n",
    "\n",
    "In mathematical terms, the union of $S$ and $T$ is denoted as $S \\cup T$.\n",
    "\n",
    "\n",
    "### b) Intersection of Two Sets \n",
    "\n",
    "The intersection of two sets $S$ and $T$ is the set that contains all elements of $S$ that also belong to $T$. \n",
    "\n",
    "Applied to our example, the intersection of $S$ and $T$ is given by {6}, so it contains the elements that are multiples of both 2 AND 3.\n",
    "\n",
    "In mathematical terms, the intersection of $S$ and $T$ is denoted as $S \\cap T$.\n",
    "\n",
    "\n",
    "### c) Relative Complement or the Difference\n",
    "\n",
    "If you have S and T, the relative complement of S contains all the elements of T that are NOT in S. This is also sometimes referred to as the *difference*. The difference is denoted by $ T\\backslash S $ or $T-S$.\n",
    "\n",
    "In this case, the relative complement of S (or $ T\\backslash S $) is $\\{2,4,8\\}$. The relative complement of T (or $ S\\backslash T $) is $\\{3,9,12\\}$.\n",
    "\n",
    "\n",
    "### d) Absolute Complement\n",
    "\n",
    "There is another definition of the complement when considering universal sets $\\Omega$ as well. In this context, we're talking about the *absolute complement*.\n",
    "\n",
    "The absolute complement of $S$, with respect to the Universal set $\\Omega$, is the collection of the objects in $\\Omega$ that don't belong to $S$.\n",
    "\n",
    "Note how the definition of $\\Omega$ is very important here. Imagine a set $S= \\{\\text{elephant, alligator, tiger, bear}\\}$. The complement of this set will depend on how the universal set is defined: Is $\\Omega$ equal to *the animals in the Bronx Zoo*, or *the 20 most deadly animals in the world*?\n",
    "\n",
    "Mathematically, the absolute complement of $S$ is denoted as $S'$ or $S^c$.\n",
    "\n",
    "Let's reconsider $S$ and $T$ as defined previously.\n",
    "\n",
    "Let's define $\\Omega$, the universal set (denoted by the box around the two Venn diagrams), as the set that contains the multiples of both 2 and 3 until 20. Then the elements of $\\Omega$ are $\\{2,3,4,6,8,9,10,12,14,15,16,18,20\\}$. \n",
    "\n",
    "The absolute complement of $S$ (so, $S'$ or $S^c$) is then given by $\\{2,4,8,10,14,15,16,18,20\\}$.\n"
   ]
  },
  {
   "cell_type": "code",
   "execution_count": null,
   "metadata": {},
   "outputs": [],
   "source": []
  }
 ],
 "metadata": {
  "kernelspec": {
   "display_name": "Python 3",
   "language": "python",
   "name": "python3"
  },
  "language_info": {
   "codemirror_mode": {
    "name": "ipython",
    "version": 3
   },
   "file_extension": ".py",
   "mimetype": "text/x-python",
   "name": "python",
   "nbconvert_exporter": "python",
   "pygments_lexer": "ipython3",
   "version": "3.7.6"
  }
 },
 "nbformat": 4,
 "nbformat_minor": 4
}
