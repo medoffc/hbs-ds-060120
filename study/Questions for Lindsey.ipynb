{
 "cells": [
  {
   "cell_type": "markdown",
   "metadata": {},
   "source": [
    "What does normalize=true mean? When to use it?\n",
    "\n",
    "Probably part of an \"if\" statement that has a default function\n",
    "\n",
    "When you pass that argument into value_counts, a method we can call on a pandas series, it gives you the relative frequencies instead of total counts - aka the percentages!"
   ]
  },
  {
   "cell_type": "code",
   "execution_count": null,
   "metadata": {},
   "outputs": [],
   "source": [
    "Can we go over the median code?\n",
    "\n",
    "## My attempt\n",
    "def median_review_count(list_of_restaurants):\n",
    "    reviews = []\n",
    "    for rest in restaurant_list:\n",
    "        reviews.append(rest['review_count'])\n",
    "    median(reviews)\n",
    "    \n",
    "    # Correct answer\n",
    "def median_review_count(list_of_restaurants):\n",
    "    length = len(list_of_restaurants)\n",
    "    n_reviews = sorted([r['review_count'] for r in list_of_restaurants])\n",
    "    if ((length % 2) == 0):\n",
    "        half = int(length/2)\n",
    "    ###This next step is finding the halfway point between the two middle points \n",
    "        median = (n_reviews[half] + n_reviews[half-1])/2\n",
    "        return median\n",
    "    else:\n",
    "        half = int((length - 1)/2)\n",
    "        median = n_reviews[half]\n",
    "        return median"
   ]
  },
  {
   "cell_type": "code",
   "execution_count": null,
   "metadata": {},
   "outputs": [],
   "source": [
    "When importing a data set, how to know just to copy/paste excel vs. add 'Data' in front?\n",
    "\n",
    "When you have a repo, you want to go into a data folder."
   ]
  },
  {
   "cell_type": "code",
   "execution_count": null,
   "metadata": {},
   "outputs": [],
   "source": [
    "Changing date format\n",
    "\n",
    "df['new date'] = df['date'].map(lambda x: '{}-{}-{}'.format(x[-2:], x[5:7], x[:4]))\n",
    "\n",
    "###Could replace the entire .format above with --> f'{x[-2:]}-{x[5:7]}-{x[:4]}'"
   ]
  },
  {
   "cell_type": "markdown",
   "metadata": {},
   "source": [
    "While loops\n",
    "\n",
    "While loop is used in situations where we do not know how many times loop needs to be excuted beforehand. For loop is used where we already know about the number of times loop needs to be executed.\n",
    "\n",
    "When to use +=1 (ONLY IN WHILE LOOPS...telling the loop when it can stop)"
   ]
  }
 ],
 "metadata": {
  "kernelspec": {
   "display_name": "Python 3",
   "language": "python",
   "name": "python3"
  },
  "language_info": {
   "codemirror_mode": {
    "name": "ipython",
    "version": 3
   },
   "file_extension": ".py",
   "mimetype": "text/x-python",
   "name": "python",
   "nbconvert_exporter": "python",
   "pygments_lexer": "ipython3",
   "version": "3.7.6"
  }
 },
 "nbformat": 4,
 "nbformat_minor": 4
}
