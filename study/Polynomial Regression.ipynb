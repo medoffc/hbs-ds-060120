{
 "cells": [
  {
   "cell_type": "code",
   "execution_count": null,
   "metadata": {},
   "outputs": [],
   "source": [
    "# Sklearn has PolynomialFeatures class for creating higher order terms in the data\n",
    "from sklearn.preprocessing import PolynomialFeatures"
   ]
  },
  {
   "cell_type": "markdown",
   "metadata": {},
   "source": [
    "Recall that when we imported the class PolynomialFeatures, we should instantiate it to be able to use it. \n",
    "\n",
    "__Important parameters__\n",
    "\n",
    "- Degree: Degrees of polynomials to be created. In our case we have $X_{1} = \\text{TV}$ and $X_{2} = \\text{Radio}$ \n",
    "\n",
    "if degree=2:\n",
    "\n",
    "$$X_{1}^{2}, X_{1}  X_{2},X_{2}^{2}$$ columns will be created.\n",
    "\n",
    "if degree=3:\n",
    "\n",
    "$$X_{1}^{2}, X_{1}^{3}, X_{1}X_{2}, X_{1}^{2}X_{2}, X_{1}X_{2}^{2}, X_{2}^{2}, X_{2}^{3}$$\n",
    "\n",
    "\n",
    "- Interaction only: It only adds interaction terms between the variables: \n",
    "\n",
    "\n",
    "$$ X_{1}X_{2} $$\n"
   ]
  },
  {
   "cell_type": "code",
   "execution_count": null,
   "metadata": {},
   "outputs": [],
   "source": [
    "# Instantiate the PolynomialFeatures with some degree = 2\n",
    "pf = PolynomialFeatures(degree=2)"
   ]
  }
 ],
 "metadata": {
  "kernelspec": {
   "display_name": "Python 3",
   "language": "python",
   "name": "python3"
  },
  "language_info": {
   "codemirror_mode": {
    "name": "ipython",
    "version": 3
   },
   "file_extension": ".py",
   "mimetype": "text/x-python",
   "name": "python",
   "nbconvert_exporter": "python",
   "pygments_lexer": "ipython3",
   "version": "3.7.6"
  }
 },
 "nbformat": 4,
 "nbformat_minor": 4
}
