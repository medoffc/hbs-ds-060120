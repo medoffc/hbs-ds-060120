{
 "cells": [
  {
   "cell_type": "markdown",
   "metadata": {},
   "source": [
    "Loops allow us to iterate over each element in a collection, like a list or dictionary."
   ]
  },
  {
   "cell_type": "markdown",
   "metadata": {},
   "source": [
    "*FOR LOOPS*\n",
    "\n",
    "A for loop in Python is primarily used for going through elements of a list one by one."
   ]
  },
  {
   "cell_type": "code",
   "execution_count": null,
   "metadata": {},
   "outputs": [],
   "source": [
    "A for loop essentially has two necessary components, which we'll refer to as arguments. \n",
    "    -Every for loop needs to end the first line with a colon :. This indicates the start of the block of code. \n",
    "    -The first argument is the variable name we are assigning to an element, or in this case, number. \n",
    "    We can give any name to the variable. The important thing to understand here is **it is the reference** to each **element** in the collection.     \n",
    "    -The second argument is the collection we are iterating over."
   ]
  },
  {
   "cell_type": "code",
   "execution_count": null,
   "metadata": {},
   "outputs": [],
   "source": [
    "Extra notes:\n",
    "1) += means: adds a value and the variable and assigns the result to that variable.\n",
    "2) When you're not sure how long the list is, run len() \n",
    "--> Then we can turn this length into a successive list of elements by first turning into a range, range(0,len()) \n",
    "--> convert into list, list(range(0,len()))\n"
   ]
  },
  {
   "cell_type": "markdown",
   "metadata": {},
   "source": [
    "Looping dictionaries: \n",
    "-We can't iterate directly over the dictionary, we iterate over the items of a dictionary, which are the key-value pairs \n",
    "    --> For key, value\n",
    "    --> Use .items()"
   ]
  },
  {
   "cell_type": "markdown",
   "metadata": {},
   "source": [
    "Conventional naming:\n",
    "    -Typically, when we are looping through a collection of things like countries, we will name the looping variable, country, since that is the singular version of the plural name that represents our list. \n",
    "    "
   ]
  },
  {
   "cell_type": "code",
   "execution_count": null,
   "metadata": {},
   "outputs": [],
   "source": [
    "*WHILE LOOPS*"
   ]
  },
  {
   "cell_type": "code",
   "execution_count": null,
   "metadata": {},
   "outputs": [],
   "source": [
    "*NESTED LOOPS*"
   ]
  }
 ],
 "metadata": {
  "kernelspec": {
   "display_name": "Python 3",
   "language": "python",
   "name": "python3"
  },
  "language_info": {
   "codemirror_mode": {
    "name": "ipython",
    "version": 3
   },
   "file_extension": ".py",
   "mimetype": "text/x-python",
   "name": "python",
   "nbconvert_exporter": "python",
   "pygments_lexer": "ipython3",
   "version": "3.7.6"
  }
 },
 "nbformat": 4,
 "nbformat_minor": 4
}
