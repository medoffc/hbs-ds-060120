{
 "cells": [
  {
   "attachments": {
    "image.png": {
     "image/png": "[encoded data removed]"
    }
   },
   "cell_type": "markdown",
   "metadata": {},
   "source": [
    "![image.png](attachment:image.png)"
   ]
  },
  {
   "cell_type": "markdown",
   "metadata": {},
   "source": [
    "where  𝑛  is the number of predictors,  𝛽0  is the intercept, and  𝑦̂   is the so-called \"fitted line\" or the predicted value associated with the dependent variable."
   ]
  },
  {
   "cell_type": "markdown",
   "metadata": {},
   "source": [
    "**Categorical variables**: they represent categories instead of numerical features\n",
    "\n",
    "To identify categorical variables: A first thing you can do is use the .describe() and .info() methods. .describe() will give you info on the data types (like strings, integers, etc), but even then continuous variables might have been imported as strings, so it's very important to really have a look at your data. "
   ]
  },
  {
   "cell_type": "markdown",
   "metadata": {},
   "source": [
    "__Question:__ How do we choose important variables\n",
    "\n",
    "- Straight forward selection: try all possible combination with variables and use AIC, BIC etc to choose best.\n",
    "\n",
    "- Forward selection:\n",
    "\n",
    "    1. Start with null model\n",
    "    2. Then one linear model for each separate variables\n",
    "    3. Pick the variable with lowest RSS\n",
    "    4. We then add to that model the variable that results variable selection \n",
    "    in the lowest RSS for the new two-variable model.\n",
    "    5. Repeat this until a stoppage criteria is achieved.\n",
    "- Backward selection\n",
    "\n",
    "- Mixed Selection"
   ]
  },
  {
   "cell_type": "markdown",
   "metadata": {},
   "source": [
    "## Transforming categorical variables"
   ]
  },
  {
   "cell_type": "markdown",
   "metadata": {},
   "source": [
    "When you want to use categorical variables in regression models, they need to be transformed. There are two approaches to this:\n",
    "- 1) Perform label encoding\n",
    "- 2) Create dummy variables / one-hot-encoding"
   ]
  },
  {
   "cell_type": "markdown",
   "metadata": {},
   "source": [
    "**Label encoding**`\n",
    "\n",
    "1) Put items into a series with --> pd.series(origin)\n",
    "2) Assign series a \"category\" type with --> cat_origin = origin_series.astype('category')\n",
    "\n",
    "You'll perform label encoding in a way that numerical labels are always between 0 and (number_of_categories)-1.\n",
    "\n",
    "3) Use scikit-learn \n",
    "- from sklearn.preprocessing import LabelEncoder\n",
    "- lb_make = LabelEncoder()\n",
    "\n",
    "4) origin_encoded = lb_make.fit_transform(cat_origin)"
   ]
  },
  {
   "cell_type": "markdown",
   "metadata": {},
   "source": [
    "**Create dummy variables**\n",
    "\n",
    "The idea is to convert each category into a new column, and assign a 1 or 0 to the column. \n",
    "\n",
    "1) pd.get_dummies(cat_origin)\n",
    "\n",
    "The advantage of using dummies is that, whatever algorithm you'll be using, your numerical values cannot be misinterpreted as being continuous. Going forward, it's important to know that for linear regression (and most other algorithms in scikit-learn), **one-hot encoding is required** when adding categorical variables in a regression model!"
   ]
  },
  {
   "cell_type": "markdown",
   "metadata": {},
   "source": [
    "**Dummy Variable Trap**\n",
    "\n",
    "Due to the nature of how dummy variables are created, one variable can be predicted from all of the others. This is known as perfect multicollinearity and it can be a problem for regression. Multicollinearity will be covered in depth later but the basic idea behind perfect multicollinearity is that you can perfectly predict what one variable will be using some combination of the other variables. \n",
    "\n",
    "Fortunately, the dummy variable trap can be avoided by simply dropping one of the dummy variables. You can do this by:  \n",
    "1) Convert columns to dummies and drop first variable: passing ```drop_first=True``` to ```get_dummies()```   \n",
    "2) remove the original columns from our data and add the dummy columns instead: \n",
    "- data = data.drop(['cylinders','model year','origin'], axis=1)  \n",
    "\n",
    "3) Bring it all together\n",
    "- data = pd.concat([data, cyl_dummies, yr_dummies, orig_dummies], axis=1)"
   ]
  },
  {
   "cell_type": "code",
   "execution_count": null,
   "metadata": {},
   "outputs": [],
   "source": []
  }
 ],
 "metadata": {
  "kernelspec": {
   "display_name": "Python 3",
   "language": "python",
   "name": "python3"
  },
  "language_info": {
   "codemirror_mode": {
    "name": "ipython",
    "version": 3
   },
   "file_extension": ".py",
   "mimetype": "text/x-python",
   "name": "python",
   "nbconvert_exporter": "python",
   "pygments_lexer": "ipython3",
   "version": "3.7.6"
  }
 },
 "nbformat": 4,
 "nbformat_minor": 4
}
