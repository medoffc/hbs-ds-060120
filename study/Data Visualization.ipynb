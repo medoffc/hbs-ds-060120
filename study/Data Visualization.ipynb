{
 "cells": [
  {
   "cell_type": "code",
   "execution_count": null,
   "metadata": {},
   "outputs": [],
   "source": [
    "To start:\n",
    "\n",
    "import pandas as pd\n",
    "import matplotlib.pyplot as plt\n",
    "# Set plot space as inline for inline plots and qt for external plots\n",
    "%matplotlib inline"
   ]
  },
  {
   "cell_type": "markdown",
   "metadata": {},
   "source": [
    "**Matplotlib**\n",
    "\n",
    "-pyplot module provides allows simple and agile creation of figures and axes to achieve the desired plot. \n",
    "\n",
    "-After preparing the the data, we can use matplotlib's plot() function to create the plot with our data, legend() to add context information to the plot, and finally show() functions to output the plot .\n",
    "\n",
    "-In jupyter notebooks, you can use %matplotlib magic with inline to show plots inside the notebook or qt for external/interactive plots. inline is recommended for most needs. There is also a % matplotlib notebook magic, which we'll see shortly.\n",
    "\n",
    "plt.xlabel(\"text\") / plt.ylabel(\"text\") - Define labels for x and y axes.\n",
    "\n",
    "plt.title(\"text\") - Define the plot title.\n",
    "\n",
    "These functions can be used with the .legend() function as we just saw above to add legend to the plot. The legend function takes an optional keyword argument loc that can be used to specify where in the figure the legend is to be drawn.\n",
    "\n",
    "plt.legend(loc=1) : upper right corner\n",
    "plt.legend(loc=2) : upper left corner\n",
    "plt.legend(loc=3) : lower left corner\n",
    "plt.legend(loc=4) : lower right corner\n",
    "\n",
    "-Set_xlim(min,max) and set_ylim(min,max) are used to define the limits of axes in a plot.\n",
    "\n",
    "-You can also change the scales and numbering of the axes themselves. You do this via the plt.xticks() and plt.yticks() methods\n",
    "\n",
    "-add_subplot() function to define a new axes.\n",
    "\n",
    "-To change the line width, we can use the linewidth or lw keyword argument. The line style can be selected using the linestyle or ls keyword arguments. "
   ]
  },
  {
   "cell_type": "markdown",
   "metadata": {},
   "source": [
    "**BASIC PLOTTING FUNCTIONS: MATPLOTLIB**\n",
    ".plot()           Line plot\n",
    ".scatter()        Scatter plot\n",
    ".bar()            Vertical bar graph\n",
    ".barh()           Horizontal bar graph\n",
    ".axhline()        Horizontal line across axes\n",
    ".vline()          Vertical line across axes\n",
    ".stackplot()      Stack plot"
   ]
  }
 ],
 "metadata": {
  "kernelspec": {
   "display_name": "Python 3",
   "language": "python",
   "name": "python3"
  },
  "language_info": {
   "codemirror_mode": {
    "name": "ipython",
    "version": 3
   },
   "file_extension": ".py",
   "mimetype": "text/x-python",
   "name": "python",
   "nbconvert_exporter": "python",
   "pygments_lexer": "ipython3",
   "version": "3.7.6"
  }
 },
 "nbformat": 4,
 "nbformat_minor": 4
}
