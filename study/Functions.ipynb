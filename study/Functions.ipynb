{
 "cells": [
  {
   "cell_type": "markdown",
   "metadata": {},
   "source": [
    "**DEFINING FUNCTIONS**"
   ]
  },
  {
   "cell_type": "markdown",
   "metadata": {},
   "source": [
    "**LAMBDA FUNCTIONS**\n",
    "Lambda functions are often a convenient way to write throw-away functions on the fly. \n",
    "\n",
    "Similar to defining functions in general or naming the iterable in for loops, the variable that you use after calling the lambda keyword ~does not matter.~\n"
   ]
  },
  {
   "cell_type": "code",
   "execution_count": null,
   "metadata": {},
   "outputs": [],
   "source": [
    "Example lambda function:\n",
    "df['stars_squared']=df['stars'].map(lambda x: x**2)"
   ]
  },
  {
   "cell_type": "markdown",
   "metadata": {},
   "source": [
    "__FUNCTIONS TO LEARN__"
   ]
  },
  {
   "cell_type": "markdown",
   "metadata": {},
   "source": [
    "**map()**\n",
    "map() function returns a map object(which is an iterator) of the results after applying the given function to each item of a given iterable (list, tuple etc.) "
   ]
  },
  {
   "cell_type": "markdown",
   "metadata": {},
   "source": [
    "**filter()**\n",
    "The filter() function returns an iterator were the items are filtered through a function to test if the item is accepted or not.\n",
    "\n",
    "Syntax: filter(function, iterable)"
   ]
  },
  {
   "cell_type": "markdown",
   "metadata": {},
   "source": [
    "**dict()**\n",
    "\n",
    "The dict() function creates a dictionary.\n",
    "\n",
    "A dictionary is a collection which is unordered, changeable and indexed.\n",
    "\n",
    "Syntax: dict(keyword arguments)"
   ]
  },
  {
   "cell_type": "markdown",
   "metadata": {},
   "source": [
    "**enumerate()**\n",
    "\n",
    "The enumerate() function takes a collection (e.g. a tuple) and returns it as an enumerate object.\n",
    "\n",
    "The enumerate() function adds a counter as the key of the enumerate object.\n",
    "\n",
    "Syntax: enumerate(iterable, start)"
   ]
  },
  {
   "cell_type": "markdown",
   "metadata": {},
   "source": [
    "**format()**\n",
    "\n",
    "The format() function formats a specified value into a specified format.\n",
    "\n",
    "Syntax: format(value, format)\n",
    "\n",
    "Legal values:\n",
    "'<' - Left aligns the result (within the available space)\n",
    "'>' - Right aligns the result (within the available space)\n",
    "'^' - Center aligns the result (within the available space)\n",
    "'=' - Places the sign to the left most position\n",
    "'+' - Use a plus sign to indicate if the result is positive or negative\n",
    "'-' - Use a minus sign for negative values only\n",
    "' ' - Use a leading space for positive numbers\n",
    "',' - Use a comma as a thousand separator\n",
    "'_' - Use a underscore as a thousand separator\n",
    "'b' - Binary format\n",
    "'c' - Converts the value into the corresponding unicode character\n",
    "'d' - Decimal format\n",
    "'e' - Scientific format, with a lower case e\n",
    "'E' - Scientific format, with an upper case E\n",
    "'f' - Fix point number format\n",
    "'F' - Fix point number format, upper case\n",
    "'g' - General format\n",
    "'G' - General format (using a upper case E for scientific notations)\n",
    "'o' - Octal format\n",
    "'x' - Hex format, lower case\n",
    "'X' - Hex format, upper case\n",
    "'n' - Number format\n",
    "'%' - Percentage format"
   ]
  },
  {
   "cell_type": "markdown",
   "metadata": {},
   "source": [
    "**len()**:\n",
    "\n",
    "The len() function returns the number of items in an object.\n",
    "\n",
    "When the object is a string, the len() function returns the number of characters in the string.\n",
    "\n",
    "Syntax: len(object)"
   ]
  },
  {
   "cell_type": "markdown",
   "metadata": {},
   "source": [
    "**list()**\n",
    "\n",
    "The list() function creates a list object.\n",
    "\n",
    "A list object is a collection which is ordered and changeable.\n",
    "\n",
    "list(iterable)"
   ]
  },
  {
   "cell_type": "markdown",
   "metadata": {},
   "source": [
    "**type()**\n",
    "\n",
    "The type() function returns the type of the specified object\n",
    "\n",
    "Syntax: type(object, bases, dict)"
   ]
  },
  {
   "cell_type": "markdown",
   "metadata": {},
   "source": [
    "**sum()**\n",
    "\n",
    "The sum() function returns a number, the sum of all items in an iterable.\n",
    "\n",
    "sum(iterable, start)"
   ]
  },
  {
   "cell_type": "markdown",
   "metadata": {},
   "source": [
    "**str()**\n",
    "\n",
    "The str() function converts the specified value into a string.\n",
    "\n",
    "Syntax: str(object)"
   ]
  },
  {
   "cell_type": "markdown",
   "metadata": {},
   "source": [
    "**slice()**\n",
    "\n",
    "The slice() function returns a slice object.\n",
    "\n",
    "A slice object is used to specify how to slice a sequence. You can specify where to start the slicing, and where to end. You can also specify the step, which allows you to e.g. slice only every other item.\n",
    "\n",
    "Syntax: slice(start, end)"
   ]
  },
  {
   "cell_type": "markdown",
   "metadata": {},
   "source": [
    "**round()**\n",
    "\n",
    "The round() function returns a floating point number that is a rounded version of the specified number, with the specified number of decimals.\n",
    "\n",
    "The default number of decimals is 0, meaning that the function will return the nearest integer.\n",
    "\n",
    "Syntax: round(number, digits)"
   ]
  },
  {
   "cell_type": "markdown",
   "metadata": {},
   "source": [
    "**range()**\n",
    "\n",
    "The range() function returns a sequence of numbers, starting from 0 by default, and increments by 1 (by default), and stops before a specified number.\n",
    "\n",
    "Syntax: range(start, stop)"
   ]
  }
 ],
 "metadata": {
  "kernelspec": {
   "display_name": "Python 3",
   "language": "python",
   "name": "python3"
  },
  "language_info": {
   "codemirror_mode": {
    "name": "ipython",
    "version": 3
   },
   "file_extension": ".py",
   "mimetype": "text/x-python",
   "name": "python",
   "nbconvert_exporter": "python",
   "pygments_lexer": "ipython3",
   "version": "3.7.6"
  }
 },
 "nbformat": 4,
 "nbformat_minor": 4
}
