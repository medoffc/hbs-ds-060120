{
 "cells": [
  {
   "cell_type": "markdown",
   "metadata": {},
   "source": [
    "**Four types of variables:**\n",
    "    1. Strings (str)=Text\n",
    "    2. Integers\n",
    "    3. Boolean\n",
    "    4. Float \n",
    "    \n",
    "    To discover the type of variable you're working with: type()\n",
    "    "
   ]
  },
  {
   "cell_type": "markdown",
   "metadata": {},
   "source": [
    "*STRINGS*\n",
    "-A string is just text.\n",
    "\n",
    "-To open a string: \"\" (Double or single quotes, doesn't matter) to tell computer you're working with text\n",
    "\n",
    "Common string methods:\n",
    "    .upper () ------ All uppercase\n",
    "    .lower () ------ All lowercase\n",
    "    .capitalize ()-- Capitalize first word\n",
    "    .title() ------- Capitalize first letter of every word\n",
    "    .endswith() ----\n",
    "    \n",
    "To learn more about strings: help(str)\n",
    "\n",
    "\n",
    "SUMMARY:  A string is just text. We indicate to Python that we are writing a string by surrounding our content with quotation marks. Once we do this, we can operate on this string by calling methods like `upper()` or `endswith()`. We identified a general pattern for calling methods on datatypes: 'instance of a datatype-dot-method name-parentheses'."
   ]
  },
  {
   "cell_type": "markdown",
   "metadata": {},
   "source": [
    "*NUMBER: INTEGER*\n",
    "-Integer: A number without a decimal"
   ]
  },
  {
   "cell_type": "markdown",
   "metadata": {},
   "source": [
    "*NUMBER: FLOAT*\n",
    "-Float: a number with a decimal"
   ]
  },
  {
   "cell_type": "markdown",
   "metadata": {},
   "source": [
    "*BOOLEAN*\n",
    "-A Boolean has two possible values: **True** or **False**."
   ]
  }
 ],
 "metadata": {
  "kernelspec": {
   "display_name": "Python 3",
   "language": "python",
   "name": "python3"
  },
  "language_info": {
   "codemirror_mode": {
    "name": "ipython",
    "version": 3
   },
   "file_extension": ".py",
   "mimetype": "text/x-python",
   "name": "python",
   "nbconvert_exporter": "python",
   "pygments_lexer": "ipython3",
   "version": "3.7.6"
  }
 },
 "nbformat": 4,
 "nbformat_minor": 4
}
