{
 "cells": [
  {
   "cell_type": "markdown",
   "metadata": {},
   "source": [
    "*LISTS*\n",
    "-A list is our first form of a collection. A collection is just a way of grouping multiple pieces of data together ~when order matters~. \n",
    "\n",
    "-To open a list: []\n",
    "-To separate items: ,\n",
    "-To access elements (non-destructive): \n",
    "    -Single element: Fill in brackets (ex:[0] or [-1]) to access index \n",
    "    **Index begins at the number 0**\n",
    "    -Multiple elements: Slice (: not inclusive of range ending) \n",
    "    **Slicing leaves list intact**\n",
    "    -To see unique list of elements, call set() function: just like a list, except elements do not have order and each element appears just once.\n",
    "    **Note: For most purposes, Python developers prefer to work with `lists` as opposed to sets, as `lists` are generally easier to manipulate, as you will see in future lessons.**\n",
    "\n",
    "    \n",
    "-To access elements (destructive):\n",
    "    .append() ----- adds to the list \n",
    "    .pop() -------- available to call on any list and removes the last element from the list\n",
    "\n",
    "\n",
    "SUMMARY: A list is similar to a list in the real world - it implies the data has some connection, and that it has an order to it.  We initialize a list with the brackets, `[]`, and separate each element by a comma.  To access elements from a list, we use the bracket accessor followed by the index of the element we want to retrieve, and our indices begin at zero and increase by 1 from there. To add a new element to the end of the list we use the `append` method, and to remove an element from the end of a list we use the `pop` method. We can change elements anywhere between by first accessing the elements and then reassigning them.\n"
   ]
  },
  {
   "cell_type": "markdown",
   "metadata": {},
   "source": [
    "*DICTIONARY*\n",
    "-Collection of objects ~with no definitive order~ ie. unordered collections of key-value pairs.\n",
    "-To find information: we specify a key(also called \"attribute\") for a dictionary and are returned with the value associated with that key.\n",
    "\n",
    "-To open a dictionary: {}\n",
    "\n",
    "Common dictionary methods:\n",
    "\n",
    "To learn more about dictionaries: help(dict)\n",
    "    .items()\n",
    "    .keys()\n",
    "    .values()\n",
    "    \n",
    "SUMMARY: A dictionary is an unordered collection of key-value pairs. We mark the start and end of a dictionary with curly braces, {}, and then follow the pattern of 'key':'value' for each of the associated attributes, with each attribute separated by a comma: dictionary = {'key_1':'value_1', 'key_2':'value_2'}."
   ]
  }
 ],
 "metadata": {
  "kernelspec": {
   "display_name": "Python 3",
   "language": "python",
   "name": "python3"
  },
  "language_info": {
   "codemirror_mode": {
    "name": "ipython",
    "version": 3
   },
   "file_extension": ".py",
   "mimetype": "text/x-python",
   "name": "python",
   "nbconvert_exporter": "python",
   "pygments_lexer": "ipython3",
   "version": "3.7.6"
  }
 },
 "nbformat": 4,
 "nbformat_minor": 4
}
