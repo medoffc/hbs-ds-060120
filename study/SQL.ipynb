{
 "cells": [
  {
   "cell_type": "markdown",
   "metadata": {},
   "source": [
    "**SQL: Structured Query Language**"
   ]
  },
  {
   "cell_type": "code",
   "execution_count": null,
   "metadata": {},
   "outputs": [],
   "source": [
    "SQL is designed to work with relational data. This really just means pieces of data that are related to each other."
   ]
  },
  {
   "cell_type": "markdown",
   "metadata": {},
   "source": [
    "asterix: This indicates that this is the primary key for the table. A primary key is a unique identifier for a table. That is, there can only be unique values for this column entry. \n",
    "\n",
    "The columns that are the primary key for one table can also appear on other tables. This is known as a foreign key aka the primary key from a different (\"foreign\") table."
   ]
  },
  {
   "cell_type": "markdown",
   "metadata": {},
   "source": [
    "Connecting to a database:\n",
    "Connect to our database by importing sqlite3 and running the following cell in our notebook. You'll need a cursor object (cur) to fetch results. Cursor objects allow you to keep track of which result set is which since it's possible to run multiple queries before you're done fetching the results of the first.\n",
    "\n",
    "import sqlite3\n",
    "conn = sqlite3.connect('data.sqlite')\n",
    "cur = conn.cursor()\n",
    "\n",
    "For strings, use \"\"\"str\"\"\": triple quotes have the added functionality of being able to use multiple lines within the same string\n"
   ]
  },
  {
   "cell_type": "markdown",
   "metadata": {},
   "source": [
    "Wrapping results into dataframes:\n",
    "    \n",
    "import pandas as pd\n",
    "cur.execute(\"\"\"SELECT * FROM employees LIMIT 5;\"\"\")\n",
    "df = pd.DataFrame(cur.fetchall())\n",
    "##To get column names\n",
    "df.columns = [x[0] for x in cur.description]\n",
    "df.head()\n",
    "\n",
    "*Alternate to .fetchall* --> When you would only like the first result (or one result as is the case in the example above) you can use the sqlite3 method .fetchone()"
   ]
  },
  {
   "cell_type": "code",
   "execution_count": null,
   "metadata": {},
   "outputs": [],
   "source": [
    "Where condition: the WHERE clause filters query results by some condition\n",
    "    \n",
    "    Example: cur.execute(\"\"\"SELECT * FROM customers WHERE city = 'Boston' OR city = 'Madrid';\"\"\")"
   ]
  },
  {
   "cell_type": "markdown",
   "metadata": {},
   "source": [
    "Order by and limit clauses:\n",
    "\n",
    "Two additional keywords that you can use to refine your searches are the ORDER BY and LIMIT clauses. \n",
    "    -The order by clause allows you to sort the results by a particular feature. \n",
    "        -For example, you could sort by the customerName column if you wished to get results in alphabetical order. \n",
    "        -By default, ORDER BY is ascending. \n",
    "        -If you want the opposite, use the additional parameter DESC. \n",
    "        \n",
    "    -Finally, the limit clause is typically the last argument in a SQL query and simply limits the output to a set number of results."
   ]
  },
  {
   "cell_type": "code",
   "execution_count": null,
   "metadata": {},
   "outputs": [],
   "source": [
    "Between clause:\n",
    "    \n",
    "Ex: SELECT column_name(s) FROM table_name WHERE column_name BETWEEN value1 AND value2;"
   ]
  },
  {
   "cell_type": "code",
   "execution_count": null,
   "metadata": {},
   "outputs": [],
   "source": [
    "To find null:\n",
    "    \n",
    "Ex: SELECT * FROM cats WHERE Name IS null;"
   ]
  },
  {
   "cell_type": "markdown",
   "metadata": {},
   "source": [
    "COUNT (SQL aggregate function)\n",
    "\n",
    "For now, we'll just focus on COUNT, which counts the number of records that meet a certain condition. Here's a standard SQL query using COUNT:\n",
    "\n",
    "SELECT COUNT([column name]) FROM [table name] WHERE [column name] = [value]\n",
    "Let's try it out and count the number of cats who have an owner_id of 1:\n",
    "\n",
    "SELECT COUNT(owner_id) FROM cats WHERE owner_id = 1;"
   ]
  },
  {
   "cell_type": "markdown",
   "metadata": {},
   "source": [
    "**GROUP BY**\n",
    "\n",
    "Like its name suggests, it groups your results by a given column. The GROUP BY clause groups records into summary rows and returns one record for each group. \n",
    "\n",
    "Ex: SELECT breed, COUNT(breed) FROM cats GROUP BY breed;\n",
    "    \n",
    "Typically, GROUP BY also involves an aggregate function (COUNT, AVG, etc.). Lastly, GROUP BY can group by one or more columns.    "
   ]
  },
  {
   "cell_type": "markdown",
   "metadata": {},
   "source": [
    "SQLite allows us to explicitly state the tableName.columnName you want to select. This is particularly useful when you want data from two different tables."
   ]
  },
  {
   "cell_type": "markdown",
   "metadata": {},
   "source": [
    "**ALIASING**\n",
    "\n",
    "An Alias is a shorthand for a table or column name. Aliases reduce the amount of typing required to enter a query. Generally, complex queries with aliases are easier to read. Aliases are useful with JOIN, GROUP BY, and aggregates (SUM, COUNT, etc.). An Alias only exists for the duration of the query.\n",
    "\n",
    "You can alias your GROUP BY by specifying the index of our selection order that we want to group by. This is simply written as GROUP BY 1, with the number \"1\" referring to the first column name that we are selecting.\n",
    "\n",
    "Additionally, we can also rename our aggregate to a more descriptive name using the AS clause."
   ]
  },
  {
   "cell_type": "markdown",
   "metadata": {},
   "source": [
    "**Other Aggregations**\n",
    "Aside from COUNT() some other useful aggregations include:\n",
    "\n",
    "MIN()\n",
    "MAX()\n",
    "SUM()\n",
    "AVG()"
   ]
  },
  {
   "cell_type": "markdown",
   "metadata": {},
   "source": [
    "**HAVING CLAUSE**\n",
    "\n",
    "Finally, we can also filter our aggregated views with the HAVING clause. The HAVING clause works similarly to the WHERE clause, except it is used to filter data selections on conditions after the GROUP BY clause. For example, if we wanted to filter based on a customer's last name, we would use the WHERE clause. However, if we wanted to filter a list of cities with at least 5 customers, we would use the HAVING clause. First, we would GROUP BY city and then use the HAVING clause, which will allow us to pass conditions on the result of this aggregation.\n",
    "\n",
    "We can also use the WHERE and HAVING clauses in conjunction with each other for more complex rules. For example, let's say we want a list of customers who have made at least 2 purchases of over 50K each.\n",
    "\n",
    "cur.execute(\"\"\"SELECT customerName,\n",
    "               COUNT(amount) AS number_purchases_over_50K\n",
    "               FROM customers\n",
    "               JOIN payments\n",
    "               USING(customerNumber)\n",
    "               WHERE amount >= 50000\n",
    "               GROUP BY customerName\n",
    "               HAVING count(amount) >= 2\n",
    "               ORDER BY count(amount) DESC;\"\"\")\n",
    "df = pd.DataFrame(cur.fetchall())\n",
    "df. columns = [i[0] for i in cur.description]\n",
    "print(len(df))\n",
    "df.head()"
   ]
  },
  {
   "cell_type": "code",
   "execution_count": null,
   "metadata": {},
   "outputs": [],
   "source": [
    "PRAGMA: \n",
    "Introduces us to the table or schema we're working with in SQLLite    \n",
    "    "
   ]
  }
 ],
 "metadata": {
  "kernelspec": {
   "display_name": "Python 3",
   "language": "python",
   "name": "python3"
  },
  "language_info": {
   "codemirror_mode": {
    "name": "ipython",
    "version": 3
   },
   "file_extension": ".py",
   "mimetype": "text/x-python",
   "name": "python",
   "nbconvert_exporter": "python",
   "pygments_lexer": "ipython3",
   "version": "3.7.6"
  }
 },
 "nbformat": 4,
 "nbformat_minor": 4
}
