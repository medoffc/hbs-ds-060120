{
 "cells": [
  {
   "cell_type": "markdown",
   "metadata": {},
   "source": [
    "**SQL: Structured Query Language**"
   ]
  },
  {
   "cell_type": "code",
   "execution_count": null,
   "metadata": {},
   "outputs": [],
   "source": [
    "SQL is designed to work with relational data. This really just means pieces of data that are related to each other."
   ]
  },
  {
   "cell_type": "markdown",
   "metadata": {},
   "source": [
    "asterix: This indicates that this is the primary key for the table. A primary key is a unique identifier for a table. That is, there can only be unique values for this column entry. \n",
    "\n",
    "The columns that are the primary key for one table can also appear on other tables. This is known as a foreign key aka the primary key from a different (\"foreign\") table."
   ]
  },
  {
   "cell_type": "markdown",
   "metadata": {},
   "source": [
    "Connecting to a database:\n",
    "Connect to our database by importing sqlite3 and running the following cell in our notebook. You'll need a cursor object (cur) to fetch results. Cursor objects allow you to keep track of which result set is which since it's possible to run multiple queries before you're done fetching the results of the first.\n",
    "\n",
    "import sqlite3\n",
    "conn = sqlite3.connect('data.sqlite')\n",
    "cur = conn.cursor()\n",
    "\n",
    "For strings, use \"\"\"str\"\"\": triple quotes have the added functionality of being able to use multiple lines within the same string\n"
   ]
  },
  {
   "cell_type": "markdown",
   "metadata": {},
   "source": [
    "Wrapping results into dataframes:\n",
    "    \n",
    "import pandas as pd\n",
    "cur.execute(\"\"\"SELECT * FROM employees LIMIT 5;\"\"\")\n",
    "df = pd.DataFrame(cur.fetchall())\n",
    "##To get column names\n",
    "df.columns = [x[0] for x in cur.description]\n",
    "df.head()\n",
    "\n",
    "*Alternate to .fetchall* --> When you would only like the first result (or one result as is the case in the example above) you can use the sqlite3 method .fetchone()"
   ]
  },
  {
   "cell_type": "code",
   "execution_count": null,
   "metadata": {},
   "outputs": [],
   "source": [
    "Where condition: the WHERE clause filters query results by some condition\n",
    "    \n",
    "    Example: cur.execute(\"\"\"SELECT * FROM customers WHERE city = 'Boston' OR city = 'Madrid';\"\"\")"
   ]
  },
  {
   "cell_type": "markdown",
   "metadata": {},
   "source": [
    "Order by and limit clauses:\n",
    "\n",
    "Two additional keywords that you can use to refine your searches are the ORDER BY and LIMIT clauses. \n",
    "    -The order by clause allows you to sort the results by a particular feature. \n",
    "        -For example, you could sort by the customerName column if you wished to get results in alphabetical order. \n",
    "        -By default, ORDER BY is ascending. \n",
    "        -If you want the opposite, use the additional parameter DESC. \n",
    "        \n",
    "    -Finally, the limit clause is typically the last argument in a SQL query and simply limits the output to a set number of results."
   ]
  },
  {
   "cell_type": "code",
   "execution_count": null,
   "metadata": {},
   "outputs": [],
   "source": [
    "Between clause:\n",
    "    \n",
    "Ex: SELECT column_name(s) FROM table_name WHERE column_name BETWEEN value1 AND value2;"
   ]
  },
  {
   "cell_type": "code",
   "execution_count": null,
   "metadata": {},
   "outputs": [],
   "source": [
    "To find null:\n",
    "    \n",
    "Ex: SELECT * FROM cats WHERE Name IS null;"
   ]
  },
  {
   "cell_type": "markdown",
   "metadata": {},
   "source": [
    "COUNT (SQL aggregate function)\n",
    "\n",
    "For now, we'll just focus on COUNT, which counts the number of records that meet a certain condition. Here's a standard SQL query using COUNT:\n",
    "\n",
    "SELECT COUNT([column name]) FROM [table name] WHERE [column name] = [value]\n",
    "Let's try it out and count the number of cats who have an owner_id of 1:\n",
    "\n",
    "SELECT COUNT(owner_id) FROM cats WHERE owner_id = 1;"
   ]
  },
  {
   "cell_type": "code",
   "execution_count": null,
   "metadata": {},
   "outputs": [],
   "source": [
    "Group by\n",
    "\n",
    "Like its name suggests, it groups your results by a given column.\n",
    "\n",
    "Ex: SELECT breed, COUNT(breed) FROM cats GROUP BY breed;"
   ]
  },
  {
   "cell_type": "markdown",
   "metadata": {},
   "source": [
    "SQLite allows us to explicitly state the tableName.columnName you want to select. This is particularly useful when you want data from two different tables."
   ]
  }
 ],
 "metadata": {
  "kernelspec": {
   "display_name": "Python 3",
   "language": "python",
   "name": "python3"
  },
  "language_info": {
   "codemirror_mode": {
    "name": "ipython",
    "version": 3
   },
   "file_extension": ".py",
   "mimetype": "text/x-python",
   "name": "python",
   "nbconvert_exporter": "python",
   "pygments_lexer": "ipython3",
   "version": "3.7.6"
  }
 },
 "nbformat": 4,
 "nbformat_minor": 4
}
